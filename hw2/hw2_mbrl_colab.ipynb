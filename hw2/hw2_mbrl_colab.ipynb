{
  "cells": [
    {
      "cell_type": "markdown",
      "metadata": {
        "id": "MLjZ1UnZ41qL"
      },
      "source": [
        "# Homework 2 Part 2 - Model Based Reinforcement Learning\n",
        "\n",
        "***\n",
        "\n",
        "Written by Albert Wilcox\n",
        "\n",
        "In this homework, you'll implement [PETS](https://arxiv.org/abs/1805.12114), a popular model for simple MBRL tasks.\n"
      ]
    },
    {
      "cell_type": "markdown",
      "metadata": {
        "id": "l5EDo5Kx41qN"
      },
      "source": [
        "First, in the top right corner make sure you're connected to a T4 GPU since those are the only runtimes we tested these instructions on.\n",
        "\n",
        "Next, Upload the folder 'hw2' from the Git repo into your Google Drive.\n",
        "\n",
        "Finally, ensure that the paths in the following cell are correct and run the following cells to set up your Colab environment and install the necessary requirements. Note that for Colab you do this instead of dealing with the conda environment."
      ]
    },
    {
      "cell_type": "code",
      "execution_count": 13,
      "metadata": {
        "id": "BrGuOTNR41qN",
        "outputId": "960b0d76-72ad-414c-aebb-4826a7740cd2",
        "colab": {
          "base_uri": "https://localhost:8080/"
        }
      },
      "outputs": [
        {
          "output_type": "stream",
          "name": "stdout",
          "text": [
            "Drive already mounted at /content/drive; to attempt to forcibly remount, call drive.mount(\"/content/drive\", force_remount=True).\n"
          ]
        }
      ],
      "source": [
        "from google.colab import drive\n",
        "import os\n",
        "import sys\n",
        "\n",
        "drive.mount('/content/drive')\n",
        "os.chdir('/content/drive/MyDrive/hw2')\n",
        "sys.path.append('/content/drive/MyDrive/hw2')"
      ]
    },
    {
      "cell_type": "code",
      "execution_count": 14,
      "metadata": {
        "id": "flBk5Uw-41qO",
        "outputId": "a0e552af-2088-4500-b559-2df205b57229",
        "colab": {
          "base_uri": "https://localhost:8080/"
        }
      },
      "outputs": [
        {
          "output_type": "stream",
          "name": "stdout",
          "text": [
            "Reading package lists... Done\n",
            "Building dependency tree... Done\n",
            "Reading state information... Done\n",
            "libglew-dev is already the newest version (2.2.0-4).\n",
            "libgl1-mesa-dev is already the newest version (23.2.1-1ubuntu3.1~22.04.2).\n",
            "libosmesa6-dev is already the newest version (23.2.1-1ubuntu3.1~22.04.2).\n",
            "software-properties-common is already the newest version (0.99.22.9).\n",
            "libgl1-mesa-glx is already the newest version (23.0.4-0ubuntu1~22.04.1).\n",
            "0 upgraded, 0 newly installed, 0 to remove and 49 not upgraded.\n",
            "Reading package lists... Done\n",
            "Building dependency tree... Done\n",
            "Reading state information... Done\n",
            "patchelf is already the newest version (0.14.3-1).\n",
            "0 upgraded, 0 newly installed, 0 to remove and 49 not upgraded.\n",
            "Collecting d4rl (from -r requirements.txt (line 7))\n",
            "  Cloning https://github.com/Farama-Foundation/d4rl (to revision master) to /tmp/pip-install-earyn_4s/d4rl_1f0c5359f25f4d2d80334bafc997a807\n",
            "  Running command git clone --filter=blob:none --quiet https://github.com/Farama-Foundation/d4rl /tmp/pip-install-earyn_4s/d4rl_1f0c5359f25f4d2d80334bafc997a807\n",
            "  Resolved https://github.com/Farama-Foundation/d4rl to commit cf0efbd75a9e05f34dfee2f566e163abfa512485\n",
            "  Preparing metadata (setup.py) ... \u001b[?25l\u001b[?25hdone\n",
            "Requirement already satisfied: scipy in /usr/local/lib/python3.10/dist-packages (from -r requirements.txt (line 1)) (1.13.1)\n",
            "Requirement already satisfied: loguru in /usr/local/lib/python3.10/dist-packages (from -r requirements.txt (line 2)) (0.7.2)\n",
            "Requirement already satisfied: enlighten in /usr/local/lib/python3.10/dist-packages (from -r requirements.txt (line 3)) (1.12.4)\n",
            "Requirement already satisfied: free-mujoco-py in /usr/local/lib/python3.10/dist-packages (from -r requirements.txt (line 4)) (2.1.6)\n",
            "Requirement already satisfied: matplotlib in /usr/local/lib/python3.10/dist-packages (from -r requirements.txt (line 5)) (3.8.0)\n",
            "Requirement already satisfied: einops in /usr/local/lib/python3.10/dist-packages (from -r requirements.txt (line 6)) (0.8.0)\n",
            "Requirement already satisfied: numpy<2.3,>=1.22.4 in /usr/local/lib/python3.10/dist-packages (from scipy->-r requirements.txt (line 1)) (1.26.4)\n",
            "Requirement already satisfied: blessed>=1.17.7 in /usr/local/lib/python3.10/dist-packages (from enlighten->-r requirements.txt (line 3)) (1.20.0)\n",
            "Requirement already satisfied: prefixed>=0.3.2 in /usr/local/lib/python3.10/dist-packages (from enlighten->-r requirements.txt (line 3)) (0.9.0)\n",
            "Requirement already satisfied: Cython<0.30.0,>=0.29.24 in /usr/local/lib/python3.10/dist-packages (from free-mujoco-py->-r requirements.txt (line 4)) (0.29.37)\n",
            "Requirement already satisfied: cffi<2.0.0,>=1.15.0 in /usr/local/lib/python3.10/dist-packages (from free-mujoco-py->-r requirements.txt (line 4)) (1.17.1)\n",
            "Requirement already satisfied: fasteners==0.15 in /usr/local/lib/python3.10/dist-packages (from free-mujoco-py->-r requirements.txt (line 4)) (0.15)\n",
            "Requirement already satisfied: glfw<2.0.0,>=1.4.0 in /usr/local/lib/python3.10/dist-packages (from free-mujoco-py->-r requirements.txt (line 4)) (1.12.0)\n",
            "Requirement already satisfied: imageio<3.0.0,>=2.9.0 in /usr/local/lib/python3.10/dist-packages (from free-mujoco-py->-r requirements.txt (line 4)) (2.36.0)\n",
            "Requirement already satisfied: six in /usr/local/lib/python3.10/dist-packages (from fasteners==0.15->free-mujoco-py->-r requirements.txt (line 4)) (1.16.0)\n",
            "Requirement already satisfied: monotonic>=0.1 in /usr/local/lib/python3.10/dist-packages (from fasteners==0.15->free-mujoco-py->-r requirements.txt (line 4)) (1.6)\n",
            "Requirement already satisfied: contourpy>=1.0.1 in /usr/local/lib/python3.10/dist-packages (from matplotlib->-r requirements.txt (line 5)) (1.3.0)\n",
            "Requirement already satisfied: cycler>=0.10 in /usr/local/lib/python3.10/dist-packages (from matplotlib->-r requirements.txt (line 5)) (0.12.1)\n",
            "Requirement already satisfied: fonttools>=4.22.0 in /usr/local/lib/python3.10/dist-packages (from matplotlib->-r requirements.txt (line 5)) (4.54.1)\n",
            "Requirement already satisfied: kiwisolver>=1.0.1 in /usr/local/lib/python3.10/dist-packages (from matplotlib->-r requirements.txt (line 5)) (1.4.7)\n",
            "Requirement already satisfied: packaging>=20.0 in /usr/local/lib/python3.10/dist-packages (from matplotlib->-r requirements.txt (line 5)) (24.1)\n",
            "Requirement already satisfied: pillow>=6.2.0 in /usr/local/lib/python3.10/dist-packages (from matplotlib->-r requirements.txt (line 5)) (10.4.0)\n",
            "Requirement already satisfied: pyparsing>=2.3.1 in /usr/local/lib/python3.10/dist-packages (from matplotlib->-r requirements.txt (line 5)) (3.2.0)\n",
            "Requirement already satisfied: python-dateutil>=2.7 in /usr/local/lib/python3.10/dist-packages (from matplotlib->-r requirements.txt (line 5)) (2.8.2)\n",
            "Collecting mjrl@ git+https://github.com/aravindr93/mjrl@master#egg=mjrl (from d4rl->-r requirements.txt (line 7))\n",
            "  Cloning https://github.com/aravindr93/mjrl (to revision master) to /tmp/pip-install-earyn_4s/mjrl_e8f6ae8578dc4b138a07dad2b48cc698\n",
            "  Running command git clone --filter=blob:none --quiet https://github.com/aravindr93/mjrl /tmp/pip-install-earyn_4s/mjrl_e8f6ae8578dc4b138a07dad2b48cc698\n",
            "  Resolved https://github.com/aravindr93/mjrl to commit 3871d93763d3b49c4741e6daeaebbc605fe140dc\n",
            "  Preparing metadata (setup.py) ... \u001b[?25l\u001b[?25hdone\n",
            "Requirement already satisfied: gym<0.24.0 in /usr/local/lib/python3.10/dist-packages (from d4rl->-r requirements.txt (line 7)) (0.23.1)\n",
            "Requirement already satisfied: mujoco_py in /usr/local/lib/python3.10/dist-packages (from d4rl->-r requirements.txt (line 7)) (2.1.2.14)\n",
            "Requirement already satisfied: pybullet in /usr/local/lib/python3.10/dist-packages (from d4rl->-r requirements.txt (line 7)) (3.2.6)\n",
            "Requirement already satisfied: h5py in /usr/local/lib/python3.10/dist-packages (from d4rl->-r requirements.txt (line 7)) (3.12.1)\n",
            "Requirement already satisfied: termcolor in /usr/local/lib/python3.10/dist-packages (from d4rl->-r requirements.txt (line 7)) (2.5.0)\n",
            "Requirement already satisfied: click in /usr/local/lib/python3.10/dist-packages (from d4rl->-r requirements.txt (line 7)) (8.1.7)\n",
            "Requirement already satisfied: dm_control>=1.0.3 in /usr/local/lib/python3.10/dist-packages (from d4rl->-r requirements.txt (line 7)) (1.0.25)\n",
            "Requirement already satisfied: wcwidth>=0.1.4 in /usr/local/lib/python3.10/dist-packages (from blessed>=1.17.7->enlighten->-r requirements.txt (line 3)) (0.2.13)\n",
            "Requirement already satisfied: pycparser in /usr/local/lib/python3.10/dist-packages (from cffi<2.0.0,>=1.15.0->free-mujoco-py->-r requirements.txt (line 4)) (2.22)\n",
            "Requirement already satisfied: absl-py>=0.7.0 in /usr/local/lib/python3.10/dist-packages (from dm_control>=1.0.3->d4rl->-r requirements.txt (line 7)) (1.4.0)\n",
            "Requirement already satisfied: dm-env in /usr/local/lib/python3.10/dist-packages (from dm_control>=1.0.3->d4rl->-r requirements.txt (line 7)) (1.6)\n",
            "Requirement already satisfied: dm-tree!=0.1.2 in /usr/local/lib/python3.10/dist-packages (from dm_control>=1.0.3->d4rl->-r requirements.txt (line 7)) (0.1.8)\n",
            "Requirement already satisfied: labmaze in /usr/local/lib/python3.10/dist-packages (from dm_control>=1.0.3->d4rl->-r requirements.txt (line 7)) (1.0.6)\n",
            "Requirement already satisfied: lxml in /usr/local/lib/python3.10/dist-packages (from dm_control>=1.0.3->d4rl->-r requirements.txt (line 7)) (5.3.0)\n",
            "Requirement already satisfied: mujoco>=3.2.5 in /usr/local/lib/python3.10/dist-packages (from dm_control>=1.0.3->d4rl->-r requirements.txt (line 7)) (3.2.5)\n",
            "Requirement already satisfied: protobuf>=3.19.4 in /usr/local/lib/python3.10/dist-packages (from dm_control>=1.0.3->d4rl->-r requirements.txt (line 7)) (3.20.3)\n",
            "Requirement already satisfied: pyopengl>=3.1.4 in /usr/local/lib/python3.10/dist-packages (from dm_control>=1.0.3->d4rl->-r requirements.txt (line 7)) (3.1.7)\n",
            "Requirement already satisfied: requests in /usr/local/lib/python3.10/dist-packages (from dm_control>=1.0.3->d4rl->-r requirements.txt (line 7)) (2.32.3)\n",
            "Requirement already satisfied: setuptools!=50.0.0 in /usr/local/lib/python3.10/dist-packages (from dm_control>=1.0.3->d4rl->-r requirements.txt (line 7)) (75.1.0)\n",
            "Requirement already satisfied: tqdm in /usr/local/lib/python3.10/dist-packages (from dm_control>=1.0.3->d4rl->-r requirements.txt (line 7)) (4.66.6)\n",
            "Requirement already satisfied: cloudpickle>=1.2.0 in /usr/local/lib/python3.10/dist-packages (from gym<0.24.0->d4rl->-r requirements.txt (line 7)) (3.1.0)\n",
            "Requirement already satisfied: gym-notices>=0.0.4 in /usr/local/lib/python3.10/dist-packages (from gym<0.24.0->d4rl->-r requirements.txt (line 7)) (0.0.8)\n",
            "Requirement already satisfied: etils[epath] in /usr/local/lib/python3.10/dist-packages (from mujoco>=3.2.5->dm_control>=1.0.3->d4rl->-r requirements.txt (line 7)) (1.10.0)\n",
            "Requirement already satisfied: charset-normalizer<4,>=2 in /usr/local/lib/python3.10/dist-packages (from requests->dm_control>=1.0.3->d4rl->-r requirements.txt (line 7)) (3.4.0)\n",
            "Requirement already satisfied: idna<4,>=2.5 in /usr/local/lib/python3.10/dist-packages (from requests->dm_control>=1.0.3->d4rl->-r requirements.txt (line 7)) (3.10)\n",
            "Requirement already satisfied: urllib3<3,>=1.21.1 in /usr/local/lib/python3.10/dist-packages (from requests->dm_control>=1.0.3->d4rl->-r requirements.txt (line 7)) (2.2.3)\n",
            "Requirement already satisfied: certifi>=2017.4.17 in /usr/local/lib/python3.10/dist-packages (from requests->dm_control>=1.0.3->d4rl->-r requirements.txt (line 7)) (2024.8.30)\n",
            "Requirement already satisfied: fsspec in /usr/local/lib/python3.10/dist-packages (from etils[epath]->mujoco>=3.2.5->dm_control>=1.0.3->d4rl->-r requirements.txt (line 7)) (2024.10.0)\n",
            "Requirement already satisfied: importlib_resources in /usr/local/lib/python3.10/dist-packages (from etils[epath]->mujoco>=3.2.5->dm_control>=1.0.3->d4rl->-r requirements.txt (line 7)) (6.4.5)\n",
            "Requirement already satisfied: typing_extensions in /usr/local/lib/python3.10/dist-packages (from etils[epath]->mujoco>=3.2.5->dm_control>=1.0.3->d4rl->-r requirements.txt (line 7)) (4.12.2)\n",
            "Requirement already satisfied: zipp in /usr/local/lib/python3.10/dist-packages (from etils[epath]->mujoco>=3.2.5->dm_control>=1.0.3->d4rl->-r requirements.txt (line 7)) (3.20.2)\n"
          ]
        }
      ],
      "source": [
        "!apt-get install -y \\\n",
        "    libgl1-mesa-dev \\\n",
        "    libgl1-mesa-glx \\\n",
        "    libglew-dev \\\n",
        "    libosmesa6-dev \\\n",
        "    software-properties-common\n",
        "\n",
        "!apt-get install -y patchelf\n",
        "!pip install -r requirements.txt"
      ]
    },
    {
      "cell_type": "markdown",
      "metadata": {
        "id": "4ftox7h_41qO"
      },
      "source": [
        "Now run the following cell. Everything should import correctly."
      ]
    },
    {
      "cell_type": "code",
      "execution_count": 15,
      "metadata": {
        "id": "Y_foZOoB41qO",
        "outputId": "00acc67a-0ea9-4750-9bde-ca36afcbb36a",
        "colab": {
          "base_uri": "https://localhost:8080/"
        }
      },
      "outputs": [
        {
          "output_type": "execute_result",
          "data": {
            "text/plain": [
              "<contextlib.ExitStack at 0x7a3cb5b2bb80>"
            ]
          },
          "metadata": {},
          "execution_count": 15
        }
      ],
      "source": [
        "import torch\n",
        "import torch.nn as nn\n",
        "import torch.nn.functional as F\n",
        "from torch.optim import Adam\n",
        "import einops\n",
        "\n",
        "import gym\n",
        "import numpy as np\n",
        "from loguru import logger\n",
        "import matplotlib.pyplot as plt\n",
        "from IPython.display import Image\n",
        "from tqdm import tqdm, trange\n",
        "\n",
        "from typing import Tuple, Optional\n",
        "\n",
        "from src.utils import (\n",
        "    get_device,\n",
        "    set_seed,\n",
        "    demo_policy,\n",
        "    save_frames_as_gif\n",
        ")\n",
        "# Do not remove the following import\n",
        "import src.cartpole_env\n",
        "from src.mpc import MPC\n",
        "from src.mbrl_utils import sample_rollout\n",
        "from src.cartpole_env import CartpoleConfigModule\n",
        "from src.mbrl_sampler import MBRLSampler\n",
        "\n",
        "plt.ion()"
      ]
    },
    {
      "cell_type": "code",
      "execution_count": 16,
      "metadata": {
        "id": "-fzX43ax41qO",
        "outputId": "3fa76dc6-fd06-4854-a3b4-290970c1a197",
        "colab": {
          "base_uri": "https://localhost:8080/"
        }
      },
      "outputs": [
        {
          "output_type": "stream",
          "name": "stderr",
          "text": [
            "\u001b[32m2024-11-11 20:22:53.869\u001b[0m | \u001b[1mINFO    \u001b[0m | \u001b[36msrc.utils\u001b[0m:\u001b[36mget_device\u001b[0m:\u001b[36m52\u001b[0m - \u001b[1mUsing cuda device.\u001b[0m\n",
            "\u001b[32m2024-11-11 20:22:53.876\u001b[0m | \u001b[1mINFO    \u001b[0m | \u001b[36msrc.utils\u001b[0m:\u001b[36mset_seed\u001b[0m:\u001b[36m38\u001b[0m - \u001b[1mRandom seed set as 42.\u001b[0m\n"
          ]
        }
      ],
      "source": [
        "SEED: int = 42\n",
        "ENVIRONMENT_NAME: str='MBRLCartpole-v0'\n",
        "\n",
        "# torch related defaults\n",
        "DEVICE = get_device()\n",
        "torch.set_default_dtype(torch.float32)\n",
        "\n",
        "# Use random seeds for reproducibility\n",
        "set_seed(SEED)"
      ]
    },
    {
      "cell_type": "markdown",
      "metadata": {
        "id": "Ko5inFb041qP"
      },
      "source": [
        "As before, we start by initializing the environment and printing some useful information."
      ]
    },
    {
      "cell_type": "code",
      "execution_count": 17,
      "metadata": {
        "id": "LO-yjsvl41qP",
        "outputId": "137af13d-3b34-493e-88e7-95d32702fcee",
        "colab": {
          "base_uri": "https://localhost:8080/"
        }
      },
      "outputs": [
        {
          "output_type": "stream",
          "name": "stderr",
          "text": [
            "\u001b[32m2024-11-11 20:22:56.257\u001b[0m | \u001b[1mINFO    \u001b[0m | \u001b[36m__main__\u001b[0m:\u001b[36m<cell line: 7>\u001b[0m:\u001b[36m7\u001b[0m - \u001b[1mAction Dimension: 1\u001b[0m\n",
            "\u001b[32m2024-11-11 20:22:56.258\u001b[0m | \u001b[1mINFO    \u001b[0m | \u001b[36m__main__\u001b[0m:\u001b[36m<cell line: 8>\u001b[0m:\u001b[36m8\u001b[0m - \u001b[1mAction High: [3.]\u001b[0m\n",
            "\u001b[32m2024-11-11 20:22:56.261\u001b[0m | \u001b[1mINFO    \u001b[0m | \u001b[36m__main__\u001b[0m:\u001b[36m<cell line: 9>\u001b[0m:\u001b[36m9\u001b[0m - \u001b[1mAction Low: [-3.]\u001b[0m\n",
            "\u001b[32m2024-11-11 20:22:56.263\u001b[0m | \u001b[1mINFO    \u001b[0m | \u001b[36m__main__\u001b[0m:\u001b[36m<cell line: 10>\u001b[0m:\u001b[36m10\u001b[0m - \u001b[1mState Dimension: 4\u001b[0m\n"
          ]
        }
      ],
      "source": [
        "env = gym.make(ENVIRONMENT_NAME)\n",
        "\n",
        "# get the state and action dimensions\n",
        "action_dimension = env.action_space.shape[0]\n",
        "state_dimension = env.observation_space.shape[0]\n",
        "\n",
        "logger.info(f'Action Dimension: {action_dimension}')\n",
        "logger.info(f'Action High: {env.action_space.high}')\n",
        "logger.info(f'Action Low: {env.action_space.low}')\n",
        "logger.info(f'State Dimension: {state_dimension}')"
      ]
    },
    {
      "cell_type": "markdown",
      "metadata": {
        "id": "IM1nYjbq41qP"
      },
      "source": [
        "### Part 1 - PETS\n",
        "\n",
        "In this part you'll implement the PETS (Chua et al.) dynamics model and use it for model-based control (MPC). There are several important components of this pipeline:\n",
        " * The dynamics model, discussed in more detail in Chua et al, learns to predict the next state $s_{t+1}$ conditioned on the current state-action pair $(s_t, a_t)$.\n",
        " * The cost function outputs the cost of a planned state. In the case of this environment, we provide a ground truth cost function (negative velocity), but in more complicated environments where no ground truth cost function is available it is common to learn it.\n",
        " * Cross entropy method (CEM) is a gradient-free evolutionary optimizer. We use it to optimize sequences of actions, and evaluate these sequences of actions by predicting future states after rolling out the planned actions and computing the total cost of the predicted rollout under the cost function."
      ]
    },
    {
      "cell_type": "markdown",
      "metadata": {
        "id": "8PO0WByT41qP"
      },
      "source": [
        "The first step is to set up our probabilistic dynamics model. As described in Chua et al, this should take in a state and action and output `mean` and `log_std` for a Gaussian distribution over possible future states."
      ]
    },
    {
      "cell_type": "code",
      "execution_count": 18,
      "metadata": {
        "id": "zigmuidr41qP"
      },
      "outputs": [],
      "source": [
        "from src.networks import network\n",
        "\n",
        "class DynamicsModel(nn.Module):\n",
        "    def __init__(self,\n",
        "                 state_dimension: int,\n",
        "                 action_dimension: int,\n",
        "                 min_log_std: float = -5,\n",
        "                 max_log_std: float = 1,\n",
        "                 ):\n",
        "        super(DynamicsModel, self).__init__()\n",
        "\n",
        "        # TODO: fill in the parameters to initialize the prediction network\n",
        "        # Network to predict next state mean and log standard deviation\n",
        "        input_dim = state_dimension + action_dimension\n",
        "        hidden_dim = 200  # Example hidden dimension; adjust based on need\n",
        "        output_dim = state_dimension  # Output dimensions for mean prediction\n",
        "\n",
        "        # Define the layers for the network\n",
        "        self.fc1 = nn.Linear(input_dim, hidden_dim)\n",
        "        self.fc2 = nn.Linear(hidden_dim, hidden_dim)\n",
        "        self.mean_layer = nn.Linear(hidden_dim, output_dim)\n",
        "        self.log_std_layer = nn.Linear(hidden_dim, output_dim)\n",
        "\n",
        "        # Log std bounds\n",
        "        self.min_log_std = min_log_std\n",
        "        self.max_log_std = max_log_std\n",
        "\n",
        "    def forward(self, state: torch.Tensor, action: torch.Tensor) -> Tuple[torch.Tensor, torch.Tensor]:\n",
        "        \"\"\"\n",
        "        Forward pass of the dynamics network. Should return mean and log_std of the next state distribution\n",
        "\n",
        "        Args:\n",
        "            state (torch.Tensor): The input state.\n",
        "            action (torch.Tensor): The input action.\n",
        "\n",
        "        Returns:\n",
        "            Tuple[torch.Tensor, torch.Tensor]: The tuple (mean, log_std) of the distribution\n",
        "        \"\"\"\n",
        "\n",
        "        # TODO: predict the mean and log_std of the next state distribution as described above\n",
        "        # Concatenate state and action\n",
        "        x = torch.cat([state, action], dim=-1)\n",
        "\n",
        "        # Pass through network layers with activations\n",
        "        x = torch.relu(self.fc1(x))\n",
        "        x = torch.relu(self.fc2(x))\n",
        "\n",
        "        # Predict mean and log_std\n",
        "        mean = self.mean_layer(x)\n",
        "        log_std = self.log_std_layer(x).clamp(self.min_log_std, self.max_log_std)\n",
        "\n",
        "        return mean, log_std\n",
        ""
      ]
    },
    {
      "cell_type": "markdown",
      "metadata": {
        "id": "at4mSCPV41qP"
      },
      "source": [
        "The next step is to create an ensemble of dynamics models. There are better ways to implement this, but for the purposes of this assignment we'll simply maintain a list of models and loop through them at inference time. If you have access to a GPU and are interested in speeding up your implementation, you might want to check out https://pytorch.org/tutorials/intermediate/ensembling.html.\n",
        "\n",
        "There are several ways to handle data for ensembles, such as partitioning the dataset or training each network on different minibatches from the same dataset. In this assignment, we randomly sample `n_ensemble` subsets of the data with replacement. For each epoch, we train each member of the ensemble on a different subset and then shuffle the subsets. To better understand this, please refer to `src/mbrl_sampler.py`.\n",
        "\n",
        "TODOs for this section:\n",
        " * Fill in the `forward` function of the dynamics model to predict the mean and log_std from each member of the ensemble for a single batch of states and actions. This is for use during training\n",
        " * Fill in the `compute_cost` function which takes in a single state and a batch of action trajectory candidates and computes the expected cost for each one by rolling out the dynamics model. You should do this using the TS-1 algorithm from Chua et al, meaning for each step you randomly sample a dynamics model from the ensemble. Note the parameter `n_particles`. For each action trajectory candidate, you should sample `n_particles` trajectories and compute the mean between their costs.\n",
        " * Note: the `compute_cost` function will involve creating some large tensors. For tensors with many dimensions to keep track of, I would highly recommend using the `einops` library for rearranging / tiling / etc."
      ]
    },
    {
      "cell_type": "code",
      "execution_count": 23,
      "metadata": {
        "id": "VAAB2pCC41qP"
      },
      "outputs": [],
      "source": [
        "class EnsembleDynamicsModel(nn.Module):\n",
        "    def __init__(self, state_dimension: int, action_dimension: int, n_ensemble: int):\n",
        "        super(EnsembleDynamicsModel, self).__init__()\n",
        "        self.num_nets = n_ensemble\n",
        "\n",
        "        # TODO: initialize an ensemble of dynamics models\n",
        "        # Hint: You should store the models in an nn.ModuleList so that they appear when we do dynamics_model.parameters()\n",
        "        # Initialize an ensemble of dynamics models\n",
        "        self.models = nn.ModuleList([\n",
        "            DynamicsModel(state_dimension, action_dimension) for _ in range(n_ensemble)\n",
        "        ])\n",
        "\n",
        "    def forward(self, state: torch.Tensor, action: torch.Tensor) -> Tuple[torch.Tensor, torch.Tensor]:\n",
        "        \"\"\"\n",
        "        Forward pass of the dynamics network. Should return mean and log_std of the next state distribution for each model in the ensemble\n",
        "\n",
        "        Args:\n",
        "            state (torch.Tensor): The input state, shape (B, n_ensemble, S)\n",
        "            action (torch.Tensor): The input action, shape (B, n_ensemble, A)\n",
        "\n",
        "        Returns:\n",
        "            Tuple[torch.Tensor, torch.Tensor]: The tuple (mean, log_std) of the distributions where each have shape (B, n_ensemble, S)\n",
        "        \"\"\"\n",
        "\n",
        "        # TODO: predict the next state as described above\n",
        "        means = []\n",
        "        log_stds = []\n",
        "\n",
        "        for model in self.models:\n",
        "            mean, log_std = model(state, action)\n",
        "            means.append(mean)\n",
        "            log_stds.append(log_std)\n",
        "\n",
        "        # Stack means and log_stds along a new dimension to match ensemble size\n",
        "        means = torch.stack(means, dim=1)  # Shape: (B, n_ensemble, S)\n",
        "        log_stds = torch.stack(log_stds, dim=1)  # Shape: (B, n_ensemble, S)\n",
        "        return mean, log_std\n",
        "\n",
        "    def compute_cost(\n",
        "            self,\n",
        "            state: torch.Tensor,\n",
        "            actions: torch.Tensor,\n",
        "            obs_cost_fn,\n",
        "            act_cost_fn,\n",
        "            n_particles: int = 20,\n",
        "        ) -> Tuple[torch.Tensor, torch.Tensor]:\n",
        "        \"\"\"\n",
        "        Given a state and a\n",
        "\n",
        "        Args:\n",
        "            state (torch.Tensor): The input state, shape (S,)\n",
        "            actions (torch.Tensor): The action sequence candidates, shape (N, H, A)\n",
        "            obs_cost_fn: A function which takes in a batch of states and returns the cost of each one\n",
        "            act_cost_fn: A function which takes in a batch of actions and returns the cost of each one\n",
        "            n_particles (int): how many particles to sample for each action sequence\n",
        "\n",
        "        Returns:\n",
        "            torch.Tensor: Expected cost for each action candidate, shape (N,)\n",
        "        \"\"\"\n",
        "        n_candidates, horizon, _ = actions.shape\n",
        "\n",
        "        # TODO: predict the trajectory using the TS-1 algorithm from Chua et al\n",
        "        # Hint: You may have issues with NaN values. To deal with this, use the reparameterization trick\n",
        "        #       to sample and then replace NaN costs with a high number\n",
        "\n",
        "        costs = torch.zeros(n_candidates, device=state.device)\n",
        "\n",
        "        # Expand state for particle simulations and initialize particle states\n",
        "        particle_states = einops.repeat(state, 's -> p n s', p=n_particles, n=n_candidates)\n",
        "\n",
        "\n",
        "        for t in range(horizon):\n",
        "            current_actions = actions[:, t, :].unsqueeze(0).expand(n_particles, -1, -1)\n",
        "            step_costs = torch.zeros(n_candidates, device=state.device)\n",
        "\n",
        "            # Sample a model from the ensemble for each particle\n",
        "            chosen_models = torch.randint(0, self.num_nets, (n_particles,), device=state.device)\n",
        "            next_means = []\n",
        "            next_log_stds = []\n",
        "\n",
        "            # Compute mean and log_std for each model in the sample\n",
        "            for i, model_idx in enumerate(chosen_models):\n",
        "                mean, log_std = self.models[model_idx](particle_states[i], current_actions[i])\n",
        "                next_means.append(mean)\n",
        "                next_log_stds.append(log_std)\n",
        "\n",
        "            # Stack means and log_stds, then sample next state\n",
        "            next_means = torch.stack(next_means, dim=0)\n",
        "            next_log_stds = torch.stack(next_log_stds, dim=0)\n",
        "            stds = next_log_stds.exp()\n",
        "\n",
        "            # Sample from normal distribution (reparameterization trick)\n",
        "            noise = torch.randn_like(next_means)\n",
        "            next_states = next_means + noise * stds\n",
        "\n",
        "            # Update particle states\n",
        "            particle_states = next_states\n",
        "\n",
        "            # Calculate costs using obs_cost_fn and act_cost_fn\n",
        "            obs_cost = obs_cost_fn(particle_states)\n",
        "            act_cost = act_cost_fn(current_actions)\n",
        "            step_costs = obs_cost + act_cost\n",
        "\n",
        "            # Replace any NaN costs with a high cost\n",
        "            step_costs = torch.where(torch.isnan(step_costs), torch.tensor(1e6, device=step_costs.device), step_costs)\n",
        "\n",
        "            # Average over particles and add to total costs\n",
        "            costs += step_costs.mean(dim=0)\n",
        "\n",
        "        return costs\n"
      ]
    },
    {
      "cell_type": "markdown",
      "metadata": {
        "id": "EWkjMnrS41qP"
      },
      "source": [
        "Now that we've set up everything, the last step is to train our model. In the following block we provide some hyperparameters, the ground truth cost functions, and the skeleton of the training loop. You'll need to implement the loss function yourself.\n",
        "\n",
        "Unfortunately MPC is quite slow to run, especially on a CPU. Thus, we've provided you an offline dataset so that you don't need to run the MPC policy to collect online data. The dataset should be sufficient to achieve a reward greater than 150 with a correct implementation.\n",
        "\n",
        "Note: Our implementation achieved a validation loss <0.1.\n",
        "\n",
        "The hyperparameters we provide should work well enough, but if you have access to a GPU you can improve performance by increasing `n_particles`, `popsize` and `num_elites`."
      ]
    },
    {
      "cell_type": "code",
      "execution_count": 24,
      "metadata": {
        "id": "egHsfrAa41qQ",
        "outputId": "656cf443-baaf-4736-cadd-13e261f4ca93",
        "colab": {
          "base_uri": "https://localhost:8080/"
        }
      },
      "outputs": [
        {
          "output_type": "stream",
          "name": "stderr",
          "text": [
            "<ipython-input-24-cdc90027d6bf>:17: FutureWarning: You are using `torch.load` with `weights_only=False` (the current default value), which uses the default pickle module implicitly. It is possible to construct malicious pickle data which will execute arbitrary code during unpickling (See https://github.com/pytorch/pytorch/blob/main/SECURITY.md#untrusted-models for more details). In a future release, the default value for `weights_only` will be flipped to `True`. This limits the functions that could be executed during unpickling. Arbitrary objects will no longer be allowed to be loaded via this mode unless they are explicitly allowlisted by the user via `torch.serialization.add_safe_globals`. We recommend you start setting `weights_only=True` for any use case where you don't have full control of the loaded file. Please open an issue on GitHub for any issues related to this experimental feature.\n",
            "  sampler = MBRLSampler(torch.load('data.pkl'), n_ensemble, batch_size, DEVICE)\n",
            "<ipython-input-24-cdc90027d6bf>:20: FutureWarning: You are using `torch.load` with `weights_only=False` (the current default value), which uses the default pickle module implicitly. It is possible to construct malicious pickle data which will execute arbitrary code during unpickling (See https://github.com/pytorch/pytorch/blob/main/SECURITY.md#untrusted-models for more details). In a future release, the default value for `weights_only` will be flipped to `True`. This limits the functions that could be executed during unpickling. Arbitrary objects will no longer be allowed to be loaded via this mode unless they are explicitly allowlisted by the user via `torch.serialization.add_safe_globals`. We recommend you start setting `weights_only=True` for any use case where you don't have full control of the loaded file. Please open an issue on GitHub for any issues related to this experimental feature.\n",
            "  rollouts = torch.load('data.pkl')\n",
            "Network training: 100%|██████████| 10/10 [00:05<00:00,  1.69epoch(s)/s, Training loss=0.233, Reward=None]\n"
          ]
        }
      ],
      "source": [
        "################################## Hyper-parameters #########################################\n",
        "\n",
        "EPOCHS = 10\n",
        "EVAL_FREQ = 30\n",
        "TASK_HORIZON = 200\n",
        "\n",
        "plan_hor = 25\n",
        "n_particles = 10\n",
        "batch_size = 32\n",
        "n_ensemble = 5\n",
        "maxiters = 5\n",
        "popsize = 100\n",
        "num_elites = 10\n",
        "\n",
        "################################### Cost Functions ###########################################\n",
        "\n",
        "sampler = MBRLSampler(torch.load('data.pkl'), n_ensemble, batch_size, DEVICE)\n",
        "\n",
        "# To make things faster for you we're providing an offline dataset that should be sufficient\n",
        "rollouts = torch.load('data.pkl')\n",
        "all_obs = np.concatenate([rollout['obs'] for rollout in rollouts], axis=0)\n",
        "all_act = np.concatenate([rollout['act'] for rollout in rollouts], axis=0)\n",
        "all_next_obs = np.concatenate([rollout['next_obs'] for rollout in rollouts], axis=0)\n",
        "\n",
        "config = CartpoleConfigModule(DEVICE)\n",
        "dynamics_model = EnsembleDynamicsModel(state_dimension, action_dimension, n_ensemble).to(DEVICE)\n",
        "optimizer = Adam(dynamics_model.parameters(), 1e-3, weight_decay=1e-4)\n",
        "policy = MPC(\n",
        "    observation_space=env.observation_space,\n",
        "    action_space=env.action_space,\n",
        "    obs_cost_fn=config.obs_cost_fn,\n",
        "    act_cost_fn=config.ac_cost_fn,\n",
        "    dynamics_model=dynamics_model,\n",
        "    plan_hor=plan_hor,\n",
        "    n_particles=n_particles,\n",
        "    max_iters=maxiters,\n",
        "    popsize=popsize,\n",
        "    num_elites=num_elites,\n",
        "    alpha=0.1,\n",
        "    device=DEVICE\n",
        ")\n",
        "\n",
        "data_len = all_obs.shape[0]\n",
        "\n",
        "epoch_range = trange(EPOCHS, unit=\"epoch(s)\", desc=\"Network training\")\n",
        "num_batch = int(np.ceil(data_len / batch_size))\n",
        "result = None\n",
        "rews = []\n",
        "\n",
        "for epoch in epoch_range:\n",
        "\n",
        "    for obs, act, next_obs in sampler:\n",
        "\n",
        "        # TODO: compute NLL loss and update the dynamics model\n",
        "        # Forward pass through each model in the ensemble\n",
        "        means, log_stds = dynamics_model(obs, act)\n",
        "\n",
        "        # Compute NLL loss\n",
        "        stds = log_stds.exp()\n",
        "        nll_loss = ((next_obs - means) ** 2) / (2 * stds ** 2) + log_stds\n",
        "        nll_loss = nll_loss.mean()  # Mean over all elements for scalar loss\n",
        "\n",
        "        # Backward pass and optimizer step\n",
        "        optimizer.zero_grad()\n",
        "        nll_loss.backward()\n",
        "        optimizer.step()\n",
        "\n",
        "    # Compute validation MSE loss\n",
        "    # Note: this is a different loss function than the one you should implement to update the model\n",
        "    val_obs, val_act, val_next_obs = sampler.get_val_data()\n",
        "    mean, _ = dynamics_model(val_obs, val_act)\n",
        "    mse_losses = ((mean - val_next_obs) ** 2).mean()\n",
        "\n",
        "    epoch_range.set_postfix({\n",
        "        \"Training loss\": mse_losses.item(),\n",
        "        'Reward': result\n",
        "    })\n",
        "\n",
        "    # Sample an eval rollout. Note: If you are not using a GPU you should comment this out and only run eval once\n",
        "    if (epoch + 1) % EVAL_FREQ == 0:\n",
        "        info = sample_rollout(\n",
        "            env,\n",
        "            TASK_HORIZON,\n",
        "            policy=policy,\n",
        "        )\n",
        "        result = info['reward_sum']\n",
        "        rews.append(result)\n",
        "\n",
        "torch.save(dynamics_model.state_dict(), 'pets_checkpoint.pth')\n"
      ]
    },
    {
      "cell_type": "markdown",
      "metadata": {
        "id": "g32bt1gm41qQ"
      },
      "source": [
        "Now that you've finished training your dynamics model we can visualize our MPC policy and print out the final reward.\n",
        "\n",
        "Note: If you're running this on a CPU it will likely be quite slow. I would suggest visualizing a much shorter episode and making sure that the policy looks right before running the full 200 step eval."
      ]
    },
    {
      "cell_type": "code",
      "execution_count": 25,
      "metadata": {
        "id": "aeNIiZ2g41qQ",
        "outputId": "50e1a359-4ba5-4746-a4e4-5b9dae8c79e6",
        "colab": {
          "base_uri": "https://localhost:8080/",
          "height": 639
        }
      },
      "outputs": [
        {
          "output_type": "stream",
          "name": "stderr",
          "text": [
            "<ipython-input-25-11d3dcc07089>:1: FutureWarning: You are using `torch.load` with `weights_only=False` (the current default value), which uses the default pickle module implicitly. It is possible to construct malicious pickle data which will execute arbitrary code during unpickling (See https://github.com/pytorch/pytorch/blob/main/SECURITY.md#untrusted-models for more details). In a future release, the default value for `weights_only` will be flipped to `True`. This limits the functions that could be executed during unpickling. Arbitrary objects will no longer be allowed to be loaded via this mode unless they are explicitly allowlisted by the user via `torch.serialization.add_safe_globals`. We recommend you start setting `weights_only=True` for any use case where you don't have full control of the loaded file. Please open an issue on GitHub for any issues related to this experimental feature.\n",
            "  dynamics_model.load_state_dict(torch.load('pets_checkpoint.pth'))\n",
            "100%|██████████| 200/200 [01:24<00:00,  2.38it/s]\n",
            "WARNING:matplotlib.animation:MovieWriter imagemagick unavailable; using Pillow instead.\n",
            "INFO:matplotlib.animation:Animation.save using <class 'matplotlib.animation.PillowWriter'>\n"
          ]
        },
        {
          "output_type": "stream",
          "name": "stdout",
          "text": [
            "Total Reward: -0.605660819579542\n"
          ]
        },
        {
          "output_type": "execute_result",
          "data": {
            "image/png": "[encoded data removed]",
            "text/plain": [
              "<IPython.core.display.Image object>"
            ]
          },
          "metadata": {},
          "execution_count": 25
        }
      ],
      "source": [
        "dynamics_model.load_state_dict(torch.load('pets_checkpoint.pth'))\n",
        "dynamics_model = dynamics_model.to(DEVICE)\n",
        "frames, total_reward = demo_policy(policy, environment_name=ENVIRONMENT_NAME, steps=200)\n",
        "gif_path = save_frames_as_gif(frames, method_name='pets')\n",
        "print('Total Reward:', total_reward)\n",
        "Image(open(gif_path,'rb').read())"
      ]
    },
    {
      "cell_type": "markdown",
      "metadata": {
        "id": "D18EsxTB41qQ"
      },
      "source": [
        "Congrats on finishing the MBRL portion of Assignment 2! Hopefully you enjoyed yourself. Make sure that the visualizations are showing, an eval with a reward greater than 150 is showing above, and that the `pets_policy.gif` is present in the outputs folder.\n",
        "\n",
        "When you're done: export this notebook as an **HTML file** for final submission."
      ]
    }
  ],
  "metadata": {
    "kernelspec": {
      "display_name": "hw2",
      "language": "python",
      "name": "python3"
    },
    "language_info": {
      "codemirror_mode": {
        "name": "ipython",
        "version": 3
      },
      "file_extension": ".py",
      "mimetype": "text/x-python",
      "name": "python",
      "nbconvert_exporter": "python",
      "pygments_lexer": "ipython3",
      "version": "3.10.15"
    },
    "colab": {
      "provenance": []
    }
  },
  "nbformat": 4,
  "nbformat_minor": 0
}